{
  "nbformat": 4,
  "nbformat_minor": 0,
  "metadata": {
    "colab": {
      "provenance": []
    },
    "kernelspec": {
      "name": "python3",
      "display_name": "Python 3"
    },
    "language_info": {
      "name": "python"
    }
  },
  "cells": [
    {
      "cell_type": "markdown",
      "source": [
        "#ТОЧНЫЙ ДОВЕРИТЕЛЬНЫЙ ИНТЕРВАЛ"
      ],
      "metadata": {
        "id": "yJTqQsNonpHR"
      }
    },
    {
      "cell_type": "code",
      "execution_count": null,
      "metadata": {
        "colab": {
          "base_uri": "https://localhost:8080/"
        },
        "id": "V_Sycz5tQ4DP",
        "outputId": "7b2f2137-729b-4f2d-f0d7-d624a027a780"
      },
      "outputs": [
        {
          "output_type": "stream",
          "name": "stdout",
          "text": [
            "Границы точного доверительного интервала: 2.4728 2.5181 \n",
            "Длина: 0.0453\n",
            "\n"
          ]
        }
      ],
      "source": [
        "import matplotlib.pyplot as plt\n",
        "import numpy as np\n",
        "\n",
        "\n",
        "teta = 2.502\n",
        "x = np.random.uniform(teta, 2 * teta, 100)\n",
        "x.sort()\n",
        "left_exact = np.max(x) / (0.975 ** (1/100) + 1)\n",
        "right_exact = np.max(x) / (0.025 ** (1/100) + 1)\n",
        "print(\"Границы точного доверительного интервала:\", round(left_exact, 4), round(right_exact, 4), \"\\nДлина:\", round( - left_exact + right_exact, 4))\n",
        "\n",
        "print()\n",
        "\n"
      ]
    },
    {
      "cell_type": "markdown",
      "source": [
        "#АССИМПТОТИЧЕСКИЙ ИНТЕРВАЛ:"
      ],
      "metadata": {
        "id": "G4isoWvQnkfc"
      }
    },
    {
      "cell_type": "code",
      "source": [
        "alpha_1_wave = np.mean(x)\n",
        "alpha_2_wave = np.mean(x * x)\n",
        "\n",
        "omm_teta_wave = 2/3 * np.mean(x)\n",
        "\n",
        "omm_ass_left = -1.96 * 2 / 3 * np.sqrt(alpha_2_wave  - alpha_1_wave  ** 2) / np.sqrt(100) + omm_teta_wave\n",
        "omm_ass_right = 1.96 * 2 / 3 * np.sqrt(alpha_2_wave  - alpha_1_wave  ** 2) / np.sqrt(100) + omm_teta_wave\n",
        "\n",
        "print(\"Границы ассимптотического доверительного интервала (ОММ):\", round(omm_ass_left, 4), round(omm_ass_right, 4), \"\\nДлина:\", round( - omm_ass_left + omm_ass_right, 4))\n",
        "\n",
        "print()"
      ],
      "metadata": {
        "colab": {
          "base_uri": "https://localhost:8080/"
        },
        "id": "hlvvuRzJnv9v",
        "outputId": "1fe2c6f6-d3ee-4a7e-ca6c-1c32ade0e6de"
      },
      "execution_count": null,
      "outputs": [
        {
          "output_type": "stream",
          "name": "stdout",
          "text": [
            "Границы ассимптотического доверительного интервала (ОММ): 2.403 2.5937 \n",
            "Длина: 0.1907\n",
            "\n"
          ]
        }
      ]
    },
    {
      "cell_type": "code",
      "source": [
        "#Модель не регулярна, поэтому нельзя!\n",
        "#omp_teta_wave = np.max(x) / 201 * 101\n",
        "#omp_ass_left = omp_teta_wave * 10 / (1.96 + 10)\n",
        "#omp_ass_right = omp_teta_wave * 10 / (-1.96 + 10)\n",
        "\n",
        "#print(\"Границы ассимптотического доверительного интервала (ОМП):\", round(omp_ass_left, 4), round(omp_ass_right, 4), \"\\nДлина:\", round( - omp_ass_left + omp_ass_right, 4))\n",
        "\n",
        "#print()"
      ],
      "metadata": {
        "id": "v8JmJQJwoNgu"
      },
      "execution_count": null,
      "outputs": []
    },
    {
      "cell_type": "markdown",
      "source": [
        "#БУТСТРАП!"
      ],
      "metadata": {
        "id": "mOGU9Ttkw7Gz"
      }
    },
    {
      "cell_type": "code",
      "source": [
        "def bootstrap_non_par(data, n_bootstrap_samples=1000):\n",
        "    return [np.random.choice(data, size=len(data), replace=True) for _ in range(n_bootstrap_samples)]\n",
        "\n",
        "\n",
        "bts_np = bootstrap_non_par(x)\n",
        "delta = list()\n",
        "teta_wave = 2/3 * np.mean(x)\n",
        "for i in range(1000):\n",
        "  delta.append(2/3 * np.mean(bts_np[i]) - teta_wave)\n",
        "delta.sort()\n",
        "print(\"Непараметрический Бутстрап для доверительного интервала (ОММ):\", round(teta_wave - delta[974], 4), round(teta_wave - delta[24], 4))\n",
        "print(\"Длина:\", round(- round(teta_wave - delta[974], 4) + round(teta_wave - delta[24], 4), 4))\n",
        "print()"
      ],
      "metadata": {
        "colab": {
          "base_uri": "https://localhost:8080/"
        },
        "id": "q5S9QSfjw_Ql",
        "outputId": "8b37573d-e5c2-42bb-e928-375db8dc2dff"
      },
      "execution_count": null,
      "outputs": [
        {
          "output_type": "stream",
          "name": "stdout",
          "text": [
            "Непараметрический Бутстрап для доверительного интервала (ОММ): 2.4093 2.5985\n",
            "Длина: 0.1892\n",
            "\n"
          ]
        }
      ]
    },
    {
      "cell_type": "code",
      "source": [
        "def bootstrap_par(data, n_bootstrap_samples=50000):\n",
        "    return [np.random.uniform(teta, 2 * teta, 100) for _ in range(n_bootstrap_samples)]\n",
        "\n",
        "\n",
        "bts_p = bootstrap_par(x)\n",
        "tetas = list()\n",
        "for i in range(50000):\n",
        "  tetas.append(2/3 * np.mean(bts_p[i]))\n",
        "tetas.sort()\n",
        "print(\"Параметрический Бутстрап для доверительного интервала (ОММ):\", round(tetas[48749], 4), round(tetas[1249], 4))\n",
        "print(\"Длина:\", round(round(tetas[48749], 4) - round(tetas[1249], 4), 4))\n",
        "print()"
      ],
      "metadata": {
        "colab": {
          "base_uri": "https://localhost:8080/"
        },
        "id": "sC9uRiXkChjU",
        "outputId": "335c9c39-702a-41e6-8dfc-a15c17bc8e9a"
      },
      "execution_count": null,
      "outputs": [
        {
          "output_type": "stream",
          "name": "stdout",
          "text": [
            "Параметрический Бутстрап для доверительного интервала (ОММ): 2.5962 2.4079\n",
            "Длина: 0.1883\n",
            "\n"
          ]
        }
      ]
    },
    {
      "cell_type": "code",
      "source": [
        "\n",
        "bts_np = bootstrap_non_par(x)\n",
        "delta_2 = list()\n",
        "omp_teta_wave = np.max(x) / 201 * 101\n",
        "for i in range(1000):\n",
        "  delta_2.append(101/201 * np.max(bts_np[i]) - omp_teta_wave)\n",
        "delta_2.sort()\n",
        "print(\"Непараметрический Бутстрап для доверительного интервала (ОМП):\", round(omp_teta_wave - delta_2[974], 4), round(omp_teta_wave - delta_2[24], 4))\n",
        "print(\"Длина:\", round(- round(omp_teta_wave - delta_2[974], 4) + round(omp_teta_wave - delta_2[24], 4), 4))\n",
        "print()"
      ],
      "metadata": {
        "colab": {
          "base_uri": "https://localhost:8080/"
        },
        "id": "vVUf9ksUFiPy",
        "outputId": "cb182e83-0de2-4514-9d5e-fb65de3d058e"
      },
      "execution_count": null,
      "outputs": [
        {
          "output_type": "stream",
          "name": "stdout",
          "text": [
            "Непараметрический Бутстрап для доверительного интервала (ОМП): 2.4848 2.5119\n",
            "Длина: 0.0271\n",
            "\n"
          ]
        }
      ]
    },
    {
      "cell_type": "code",
      "source": [
        "bts_p = bootstrap_par(x)\n",
        "tetas_2 = list()\n",
        "for i in range(50000):\n",
        "  tetas_2.append(101/201 * np.max(bts_p[i]))\n",
        "tetas_2.sort()\n",
        "print(\"Параметрический Бутстрап для доверительного интервала (ОММ):\", round(tetas_2[48749], 4), round(tetas_2[1249], 4))\n",
        "print(\"Длина:\", round(round(tetas_2[48749], 4) - round(tetas_2[1249], 4), 4))\n",
        "print()"
      ],
      "metadata": {
        "colab": {
          "base_uri": "https://localhost:8080/"
        },
        "id": "UCDur3UxYI2p",
        "outputId": "9ba20139-8844-4af4-c5a5-35526da538d1"
      },
      "execution_count": null,
      "outputs": [
        {
          "output_type": "stream",
          "name": "stdout",
          "text": [
            "Параметрический Бутстрап для доверительного интервала (ОММ): 2.5141 2.469\n",
            "Длина: 0.0451\n",
            "\n"
          ]
        }
      ]
    },
    {
      "cell_type": "markdown",
      "source": [
        "#РИСУНОЧКИ"
      ],
      "metadata": {
        "id": "G6DvKljedYa9"
      }
    },
    {
      "cell_type": "code",
      "source": [
        "omp_teta_wave = np.max(x) / 201 * 101\n",
        "x_exact = np.array([left_exact, right_exact])\n",
        "x_omm_ass = np.array([omm_ass_left, omm_ass_right])\n",
        "#x_omp_ass = np.array([omp_ass_left, omp_ass_right])\n",
        "x_par_bootstrap_omm = ([tetas[48749], tetas[1249]])\n",
        "x_par_bootstrap_omp = ([tetas_2[48749], tetas_2[1249]])\n",
        "x_nonpar_bootstrap_omm = ([teta_wave - delta[974], teta_wave - delta[24]])\n",
        "x_nonpar_bootstrap_omp = ([omp_teta_wave - delta_2[974], omp_teta_wave - delta_2[24]])\n",
        "\n",
        "y_exact = np.array([1, 1])\n",
        "y_par_bootstrap_omp = np.array([2, 2])\n",
        "y_nonpar_bootstrap_omp = np.array([3, 3])\n",
        "y_omm_ass = np.array([4, 4])\n",
        "y_par_bootstrap_omm = ([5, 5])\n",
        "y_nonpar_bootstrap_omm = ([6, 6])\n",
        "\n",
        "plt.plot(x_exact, y_exact, color = \"red\", label = \"Точный\")\n",
        "plt.plot(x_omm_ass, y_omm_ass, color = \"blue\", label = \"ОММ, ассимптотичесикй\")\n",
        "#plt.plot(x_omp_ass, y_omp_ass, color = \"green\", label = \"ОМП, ассимптотичесикй\")\n",
        "plt.plot(x_par_bootstrap_omm, y_par_bootstrap_omm, color = \"orange\", label = \"ОММ, парам. бутстрап\")\n",
        "plt.plot(x_par_bootstrap_omp, y_par_bootstrap_omp, color = \"violet\", label = \"ОМП, парам. бутстрап\")\n",
        "plt.plot(x_nonpar_bootstrap_omm, y_nonpar_bootstrap_omm, color = \"yellow\", label = \"ОММ, непарам. бутстрап\")\n",
        "plt.plot(x_nonpar_bootstrap_omp, y_nonpar_bootstrap_omp, color = \"grey\", label = \"ОМП, непарам. бутстрап\")\n",
        "plt.legend(bbox_to_anchor=(1.05, 1.0), loc='upper left')\n",
        "plt.tight_layout()\n",
        "plt.show()"
      ],
      "metadata": {
        "colab": {
          "base_uri": "https://localhost:8080/",
          "height": 487
        },
        "id": "OWbJFbSGdYhk",
        "outputId": "27e11f42-33c8-461c-cf3b-4cc6c6a4f998"
      },
      "execution_count": null,
      "outputs": [
        {
          "output_type": "display_data",
          "data": {
            "text/plain": [
              "<Figure size 640x480 with 1 Axes>"
            ],
            "image/png": "[encoded data removed]"
          },
          "metadata": {}
        }
      ]
    },
    {
      "cell_type": "markdown",
      "source": [
        "ОМП дает плохие интервалы, потому что модель не регулярна("
      ],
      "metadata": {
        "id": "DrjgqbUJqtTY"
      }
    }
  ]
}